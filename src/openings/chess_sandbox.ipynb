{
 "cells": [
  {
   "cell_type": "code",
   "execution_count": null,
   "metadata": {},
   "outputs": [],
   "source": [
    "import chess.pgn\n",
    "import io\n",
    "import json"
   ]
  },
  {
   "cell_type": "code",
   "execution_count": 45,
   "metadata": {},
   "outputs": [],
   "source": [
    "# 1. Add fens to files\n",
    "file_no_fens = './openings-no-variations.json'\n",
    "output_file = 'openings-no-variations-fen.json'\n",
    "\n",
    "f = open(file_no_fens)\n",
    "openings = json.load(f)\n",
    "for opening in openings:\n",
    "    pgn = opening['pgn']\n",
    "    game = chess.pgn.read_game(io.StringIO(pgn))\n",
    "    board = game.board()\n",
    "    for move in game.mainline_moves():\n",
    "        board.push(move)\n",
    "    opening['fen'] = board.fen()\n",
    "\n",
    "# dump to file\n",
    "with open(output_file, 'w') as f:\n",
    "    json.dump(openings, f, indent=4, ensure_ascii=True)"
   ]
  },
  {
   "cell_type": "code",
   "execution_count": null,
   "metadata": {},
   "outputs": [],
   "source": [
    "# TODO: 2. using file contains FENs, call lichess api, appending winrates\n",
    "# see ./openings_novar.json "
   ]
  },
  {
   "cell_type": "code",
   "execution_count": null,
   "metadata": {},
   "outputs": [],
   "source": [
    "# 3. \n",
    "# - Filter out openings with identical names, taking the smallest PGN string (more generic opening PGN)\n",
    "# - Sort the list by popularity: total number of games from smallest to largest"
   ]
  },
  {
   "cell_type": "code",
   "execution_count": null,
   "metadata": {},
   "outputs": [],
   "source": []
  }
 ],
 "metadata": {
  "kernelspec": {
   "display_name": "Python 3.7.4 64-bit",
   "language": "python",
   "name": "python3"
  },
  "language_info": {
   "codemirror_mode": {
    "name": "ipython",
    "version": 3
   },
   "file_extension": ".py",
   "mimetype": "text/x-python",
   "name": "python",
   "nbconvert_exporter": "python",
   "pygments_lexer": "ipython3",
   "version": "3.7.4"
  },
  "orig_nbformat": 4,
  "vscode": {
   "interpreter": {
    "hash": "869037e4c7181581fc9fcd094941b6eefc4ba9e2c92f502817da3673f02682d5"
   }
  }
 },
 "nbformat": 4,
 "nbformat_minor": 2
}
